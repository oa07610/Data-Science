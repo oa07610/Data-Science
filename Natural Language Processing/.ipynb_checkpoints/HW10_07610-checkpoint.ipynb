{
 "cells": [
  {
   "cell_type": "markdown",
   "id": "e46ec3fc-d8ed-46f8-9d83-aeebf18f2f46",
   "metadata": {},
   "source": [
    "## CS/CE 457/464 Homework 10"
   ]
  },
  {
   "cell_type": "markdown",
   "id": "a7696570-07f9-40be-9891-209fca8478f9",
   "metadata": {},
   "source": [
    "## Owais Aijaz 7610\n",
    "## oa07610@st.habib.edu.pk"
   ]
  },
  {
   "cell_type": "code",
   "execution_count": null,
   "id": "734d8503-326d-466a-94be-66b1a574a71a",
   "metadata": {},
   "outputs": [],
   "source": []
  }
 ],
 "metadata": {
  "kernelspec": {
   "display_name": "Python 3 (ipykernel)",
   "language": "python",
   "name": "python3"
  },
  "language_info": {
   "codemirror_mode": {
    "name": "ipython",
    "version": 3
   },
   "file_extension": ".py",
   "mimetype": "text/x-python",
   "name": "python",
   "nbconvert_exporter": "python",
   "pygments_lexer": "ipython3",
   "version": "3.12.4"
  }
 },
 "nbformat": 4,
 "nbformat_minor": 5
}
