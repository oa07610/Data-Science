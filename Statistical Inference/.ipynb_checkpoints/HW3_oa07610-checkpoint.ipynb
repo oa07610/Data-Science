{
 "cells": [
  {
   "cell_type": "markdown",
   "id": "de384644-ed77-4fd7-a29b-760ada461b05",
   "metadata": {},
   "source": [
    "## CS/CE 457/464 Homework 02"
   ]
  },
  {
   "cell_type": "markdown",
   "id": "43e2077e-b07c-499f-8d4a-6fff27abff9c",
   "metadata": {},
   "source": [
    "## Owais Aijaz 7610\n",
    "## oa07610@st.habib.edu.pk"
   ]
  },
  {
   "cell_type": "code",
   "execution_count": 165,
   "id": "442bcb70-0c48-49f9-b41e-05c45a8224e6",
   "metadata": {},
   "outputs": [],
   "source": [
    "import pandas as pd\n",
    "from scipy import stats"
   ]
  },
  {
   "cell_type": "code",
   "execution_count": 167,
   "id": "8ec5dfa6-8831-4d5a-855f-a7dd9c21a47c",
   "metadata": {},
   "outputs": [],
   "source": [
    "df = pd.read_csv('student-scores.csv')"
   ]
  },
  {
   "cell_type": "code",
   "execution_count": 169,
   "id": "58f23426-8c7c-48ae-8449-f9fb3f937ff3",
   "metadata": {},
   "outputs": [
    {
     "data": {
      "text/html": [
       "<div>\n",
       "<style scoped>\n",
       "    .dataframe tbody tr th:only-of-type {\n",
       "        vertical-align: middle;\n",
       "    }\n",
       "\n",
       "    .dataframe tbody tr th {\n",
       "        vertical-align: top;\n",
       "    }\n",
       "\n",
       "    .dataframe thead th {\n",
       "        text-align: right;\n",
       "    }\n",
       "</style>\n",
       "<table border=\"1\" class=\"dataframe\">\n",
       "  <thead>\n",
       "    <tr style=\"text-align: right;\">\n",
       "      <th></th>\n",
       "      <th>id</th>\n",
       "      <th>first_name</th>\n",
       "      <th>last_name</th>\n",
       "      <th>email</th>\n",
       "      <th>gender</th>\n",
       "      <th>part_time_job</th>\n",
       "      <th>absence_days</th>\n",
       "      <th>extracurricular_activities</th>\n",
       "      <th>weekly_self_study_hours</th>\n",
       "      <th>career_aspiration</th>\n",
       "      <th>math_score</th>\n",
       "      <th>history_score</th>\n",
       "      <th>physics_score</th>\n",
       "      <th>chemistry_score</th>\n",
       "      <th>biology_score</th>\n",
       "      <th>english_score</th>\n",
       "      <th>geography_score</th>\n",
       "    </tr>\n",
       "  </thead>\n",
       "  <tbody>\n",
       "    <tr>\n",
       "      <th>0</th>\n",
       "      <td>1</td>\n",
       "      <td>Paul</td>\n",
       "      <td>Casey</td>\n",
       "      <td>paul.casey.1@gslingacademy.com</td>\n",
       "      <td>male</td>\n",
       "      <td>False</td>\n",
       "      <td>3</td>\n",
       "      <td>False</td>\n",
       "      <td>27</td>\n",
       "      <td>Lawyer</td>\n",
       "      <td>73</td>\n",
       "      <td>81</td>\n",
       "      <td>93</td>\n",
       "      <td>97</td>\n",
       "      <td>63</td>\n",
       "      <td>80</td>\n",
       "      <td>87</td>\n",
       "    </tr>\n",
       "    <tr>\n",
       "      <th>1</th>\n",
       "      <td>2</td>\n",
       "      <td>Danielle</td>\n",
       "      <td>Sandoval</td>\n",
       "      <td>danielle.sandoval.2@gslingacademy.com</td>\n",
       "      <td>female</td>\n",
       "      <td>False</td>\n",
       "      <td>2</td>\n",
       "      <td>False</td>\n",
       "      <td>47</td>\n",
       "      <td>Doctor</td>\n",
       "      <td>90</td>\n",
       "      <td>86</td>\n",
       "      <td>96</td>\n",
       "      <td>100</td>\n",
       "      <td>90</td>\n",
       "      <td>88</td>\n",
       "      <td>90</td>\n",
       "    </tr>\n",
       "    <tr>\n",
       "      <th>2</th>\n",
       "      <td>3</td>\n",
       "      <td>Tina</td>\n",
       "      <td>Andrews</td>\n",
       "      <td>tina.andrews.3@gslingacademy.com</td>\n",
       "      <td>female</td>\n",
       "      <td>False</td>\n",
       "      <td>9</td>\n",
       "      <td>True</td>\n",
       "      <td>13</td>\n",
       "      <td>Government Officer</td>\n",
       "      <td>81</td>\n",
       "      <td>97</td>\n",
       "      <td>95</td>\n",
       "      <td>96</td>\n",
       "      <td>65</td>\n",
       "      <td>77</td>\n",
       "      <td>94</td>\n",
       "    </tr>\n",
       "    <tr>\n",
       "      <th>3</th>\n",
       "      <td>4</td>\n",
       "      <td>Tara</td>\n",
       "      <td>Clark</td>\n",
       "      <td>tara.clark.4@gslingacademy.com</td>\n",
       "      <td>female</td>\n",
       "      <td>False</td>\n",
       "      <td>5</td>\n",
       "      <td>False</td>\n",
       "      <td>3</td>\n",
       "      <td>Artist</td>\n",
       "      <td>71</td>\n",
       "      <td>74</td>\n",
       "      <td>88</td>\n",
       "      <td>80</td>\n",
       "      <td>89</td>\n",
       "      <td>63</td>\n",
       "      <td>86</td>\n",
       "    </tr>\n",
       "    <tr>\n",
       "      <th>4</th>\n",
       "      <td>5</td>\n",
       "      <td>Anthony</td>\n",
       "      <td>Campos</td>\n",
       "      <td>anthony.campos.5@gslingacademy.com</td>\n",
       "      <td>male</td>\n",
       "      <td>False</td>\n",
       "      <td>5</td>\n",
       "      <td>False</td>\n",
       "      <td>10</td>\n",
       "      <td>Unknown</td>\n",
       "      <td>84</td>\n",
       "      <td>77</td>\n",
       "      <td>65</td>\n",
       "      <td>65</td>\n",
       "      <td>80</td>\n",
       "      <td>74</td>\n",
       "      <td>76</td>\n",
       "    </tr>\n",
       "  </tbody>\n",
       "</table>\n",
       "</div>"
      ],
      "text/plain": [
       "   id first_name last_name                                  email  gender  \\\n",
       "0   1       Paul     Casey         paul.casey.1@gslingacademy.com    male   \n",
       "1   2   Danielle  Sandoval  danielle.sandoval.2@gslingacademy.com  female   \n",
       "2   3       Tina   Andrews       tina.andrews.3@gslingacademy.com  female   \n",
       "3   4       Tara     Clark         tara.clark.4@gslingacademy.com  female   \n",
       "4   5    Anthony    Campos     anthony.campos.5@gslingacademy.com    male   \n",
       "\n",
       "   part_time_job  absence_days  extracurricular_activities  \\\n",
       "0          False             3                       False   \n",
       "1          False             2                       False   \n",
       "2          False             9                        True   \n",
       "3          False             5                       False   \n",
       "4          False             5                       False   \n",
       "\n",
       "   weekly_self_study_hours   career_aspiration  math_score  history_score  \\\n",
       "0                       27              Lawyer          73             81   \n",
       "1                       47              Doctor          90             86   \n",
       "2                       13  Government Officer          81             97   \n",
       "3                        3              Artist          71             74   \n",
       "4                       10             Unknown          84             77   \n",
       "\n",
       "   physics_score  chemistry_score  biology_score  english_score  \\\n",
       "0             93               97             63             80   \n",
       "1             96              100             90             88   \n",
       "2             95               96             65             77   \n",
       "3             88               80             89             63   \n",
       "4             65               65             80             74   \n",
       "\n",
       "   geography_score  \n",
       "0               87  \n",
       "1               90  \n",
       "2               94  \n",
       "3               86  \n",
       "4               76  "
      ]
     },
     "execution_count": 169,
     "metadata": {},
     "output_type": "execute_result"
    }
   ],
   "source": [
    "df.head()"
   ]
  },
  {
   "cell_type": "markdown",
   "id": "3c88fbcb-041d-42ab-9460-26110ede2c9c",
   "metadata": {},
   "source": [
    "### Q1\n",
    "NULL Hypothesis Ho -> math_score of males and females are same\n",
    "\n",
    "Alternative Hypothesis Ha -> Math scores of males is greater than females"
   ]
  },
  {
   "cell_type": "code",
   "execution_count": 172,
   "id": "b7232ad5-ffae-4bb9-b1cc-53fc7a4c9a9f",
   "metadata": {},
   "outputs": [
    {
     "data": {
      "text/plain": [
       "TtestResult(statistic=2.2371559026936256, pvalue=0.012693020299630226, df=1998.0)"
      ]
     },
     "execution_count": 172,
     "metadata": {},
     "output_type": "execute_result"
    }
   ],
   "source": [
    "math_score_male = df[(df['gender'] == 'male')]['math_score']\n",
    "\n",
    "math_score_female = df[(df['gender'] == 'female')]['math_score']\n",
    "\n",
    "stats.ttest_ind(math_score_male, math_score_female, alternative='greater')"
   ]
  },
  {
   "cell_type": "markdown",
   "id": "076e9230-eef5-4649-be27-23448d4e5ab9",
   "metadata": {},
   "source": [
    "P-Value < 0.05 => Hence we can reject null hypothesis and we have to accept the alternative hypothesis that says math scores of males is greater than females."
   ]
  },
  {
   "cell_type": "markdown",
   "id": "959f143a-c875-4292-84bf-d9bde4ea14f7",
   "metadata": {},
   "source": [
    "### Q2\n",
    "\n",
    "Ho -> Math scores of non-doctors is same as that of doctors\n",
    "\n",
    "Ha -> Math scores of non-doctors is greater than doctors"
   ]
  },
  {
   "cell_type": "code",
   "execution_count": 176,
   "id": "640efe40-a5df-4daf-a183-98432000d3ed",
   "metadata": {},
   "outputs": [
    {
     "data": {
      "text/plain": [
       "TtestResult(statistic=-7.389083205876682, pvalue=0.999999999999892, df=1998.0)"
      ]
     },
     "execution_count": 176,
     "metadata": {},
     "output_type": "execute_result"
    }
   ],
   "source": [
    "maths_non_doctors = df[df['career_aspiration'] != 'Doctor']['math_score']\n",
    "maths_doctors = df[df['career_aspiration'] == 'Doctor']['math_score']\n",
    "\n",
    "stats.ttest_ind(maths_non_doctors, maths_doctors, alternative='greater')"
   ]
  },
  {
   "cell_type": "markdown",
   "id": "ab27fe07-f30b-426b-b14a-35fdbcc8d4d6",
   "metadata": {},
   "source": [
    "P-Value > 0.05 => Hence we accept the null hypothesis and reject the alternative hypothesis. So we come to a conclusion that math scores of doctors and non doctors are same."
   ]
  },
  {
   "cell_type": "markdown",
   "id": "d9d05dc4-90cc-4c92-b18a-67c1bf3e8d00",
   "metadata": {},
   "source": [
    "### Q3\n",
    "\n",
    "Ho -> weekly_self_study_hours of males and females are same\n",
    "\n",
    "Ha -> weekly_self_study_hours of males are greater than females"
   ]
  },
  {
   "cell_type": "code",
   "execution_count": 180,
   "id": "9e03db28-c1e6-48a8-8cb9-7fea57e6965a",
   "metadata": {},
   "outputs": [
    {
     "data": {
      "text/plain": [
       "TtestResult(statistic=3.4567831650474443, pvalue=0.00027905018418441824, df=1998.0)"
      ]
     },
     "execution_count": 180,
     "metadata": {},
     "output_type": "execute_result"
    }
   ],
   "source": [
    "weekly_study_males = df[(df['gender'] == 'male')]['weekly_self_study_hours']\n",
    "weekly_study_females = df[(df['gender'] == 'female')]['weekly_self_study_hours']\n",
    "\n",
    "stats.ttest_ind(weekly_study_males, weekly_study_females, alternative='greater')"
   ]
  },
  {
   "cell_type": "markdown",
   "id": "5e974488-20dd-4bfd-b525-6a229af1dc9c",
   "metadata": {},
   "source": [
    "P-Value < 0.05 => Hence we can reject the null hypothesis and we have to accept the alternative hypothesis which says weekly self study hours of males are greater than females."
   ]
  },
  {
   "cell_type": "markdown",
   "id": "e2e0f9bb-0158-475c-8b54-f112dba4ea28",
   "metadata": {},
   "source": [
    "### Q4\n",
    "\n",
    "Ho -> math score of no part time male students is equal to or same as part time male students\n",
    "\n",
    "Ha -> math score of no part time male students is greater than part time male students"
   ]
  },
  {
   "cell_type": "code",
   "execution_count": 184,
   "id": "465b776f-9daa-42e4-b169-1393b38e662b",
   "metadata": {},
   "outputs": [
    {
     "data": {
      "text/plain": [
       "TtestResult(statistic=5.8026672393780085, pvalue=4.3820239750124745e-09, df=996.0)"
      ]
     },
     "execution_count": 184,
     "metadata": {},
     "output_type": "execute_result"
    }
   ],
   "source": [
    "no_parttimejob_male = df[(df['part_time_job'] == False) & (df['gender'] == 'male')]['math_score']\n",
    "\n",
    "parttimejob_male = df[(df['part_time_job'] == True) & (df['gender'] == 'male')]['math_score']\n",
    "\n",
    "stats.ttest_ind(no_parttimejob_male, parttimejob_male, alternative='greater')"
   ]
  },
  {
   "cell_type": "markdown",
   "id": "13414153-057d-44c2-ab37-64466abc6783",
   "metadata": {},
   "source": [
    "P-Value < 0.05 => Hence we will reject the null hypothesis and accept the alternative hypothesis which says that males who dont work part time, their math scores are greater than those who work part time. This shows that having a job alongside studies gets a little hard to manage as indicated by the math scores. "
   ]
  },
  {
   "cell_type": "markdown",
   "id": "308bdaca-b2df-4e11-8ff7-7678e14f2e17",
   "metadata": {},
   "source": [
    "### Q5\n",
    "\n",
    "Ho -> Average of history score is same as geography score\n",
    "\n",
    "Ha -> Average of history score is less than geography score"
   ]
  },
  {
   "cell_type": "code",
   "execution_count": 188,
   "id": "39ea3c65-36cc-4a25-b19c-17e16f0f7a24",
   "metadata": {},
   "outputs": [
    {
     "data": {
      "text/plain": [
       "TtestResult(statistic=-1.4412586066465385, pvalue=0.07479497633658547, df=3998.0)"
      ]
     },
     "execution_count": 188,
     "metadata": {},
     "output_type": "execute_result"
    }
   ],
   "source": [
    "stats.ttest_ind(df['history_score'], df['geography_score'] , alternative=\"less\")"
   ]
  },
  {
   "cell_type": "markdown",
   "id": "aa297286-6b7a-4802-ac12-6c65bf8f5cc3",
   "metadata": {},
   "source": [
    "P-Value > 0.05 => we accept the null hypothesis and conclude that average of history score is same as geography score."
   ]
  },
  {
   "cell_type": "markdown",
   "id": "af1596aa-fa27-402b-b070-05a52cfa3e08",
   "metadata": {},
   "source": [
    "### Q6\n",
    "\n",
    "Ho -> Average of math score is same as biology score\n",
    "\n",
    "Ha -> Average of math score is greater than biology score"
   ]
  },
  {
   "cell_type": "code",
   "execution_count": 192,
   "id": "5158fe4d-4f07-4d68-b876-17792db5542d",
   "metadata": {},
   "outputs": [
    {
     "data": {
      "text/plain": [
       "TtestResult(statistic=9.082620143235266, pvalue=8.146293509285797e-20, df=3998.0)"
      ]
     },
     "execution_count": 192,
     "metadata": {},
     "output_type": "execute_result"
    }
   ],
   "source": [
    "stats.ttest_ind(df['math_score'], df['biology_score'] , alternative=\"greater\")"
   ]
  },
  {
   "cell_type": "markdown",
   "id": "da63b87f-d34b-49e4-be09-d3a734ab71b5",
   "metadata": {},
   "source": [
    "P-Value < 0.05 => Hence we can reject the null hypothesis and we have to accept the alternative hypothesis that average of math score is greater than biology score. "
   ]
  },
  {
   "cell_type": "markdown",
   "id": "f4f40ae7-dc5f-4bbf-a0ee-42092992c9f0",
   "metadata": {},
   "source": [
    "### Q7\n",
    "\n",
    "Ho -> weekly_self_study_hours of extracurricular_activities is same as self study hours of no extracurricular_activities\n",
    "\n",
    "Ha -> weekly_self_study_hours of extracurricular_activities is less than no extracurricular_activities"
   ]
  },
  {
   "cell_type": "code",
   "execution_count": 196,
   "id": "784d6f0b-28db-4431-98c9-625313786aaf",
   "metadata": {},
   "outputs": [
    {
     "data": {
      "text/plain": [
       "TtestResult(statistic=-2.3506159912870577, pvalue=0.009419553161020007, df=1998.0)"
      ]
     },
     "execution_count": 196,
     "metadata": {},
     "output_type": "execute_result"
    }
   ],
   "source": [
    "hours_extra_curricular = df[(df['extracurricular_activities'] == True)]['weekly_self_study_hours']\n",
    "\n",
    "hours_no_extra_curricular = df[(df['extracurricular_activities'] == False)]['weekly_self_study_hours']\n",
    "\n",
    "stats.ttest_ind(hours_extra_curricular, hours_no_extra_curricular, alternative=\"less\")"
   ]
  },
  {
   "cell_type": "markdown",
   "id": "62f203b0-f250-4332-a1cd-a9acec02941f",
   "metadata": {},
   "source": [
    "P-Value < 0.05 => Hence we reject the null hypothesis and accept the alternative hypothesis. So we can conclude that people who are engaged in extra curricular activities have less time for self study. "
   ]
  },
  {
   "cell_type": "markdown",
   "id": "f6495906-a7e1-4850-9088-8802b39a8a86",
   "metadata": {},
   "source": [
    "### Q8\n",
    "\n",
    "Ho -> absence days of females are same as males\n",
    "\n",
    "Ha -> absence days of females are less than males"
   ]
  },
  {
   "cell_type": "code",
   "execution_count": 200,
   "id": "a9e8cfa9-b96a-45e8-bf2e-e4a7492f9d4d",
   "metadata": {},
   "outputs": [
    {
     "data": {
      "text/plain": [
       "TtestResult(statistic=1.3128102331149203, pvalue=0.9053011661354035, df=1998.0)"
      ]
     },
     "execution_count": 200,
     "metadata": {},
     "output_type": "execute_result"
    }
   ],
   "source": [
    "female_absences = df[(df['gender'] == 'female')]['absence_days']\n",
    "\n",
    "male_absences = df[(df['gender'] == 'male')]['absence_days']\n",
    "\n",
    "stats.ttest_ind(female_absences, male_absences, alternative='less')"
   ]
  },
  {
   "cell_type": "markdown",
   "id": "81c45e79-4136-48fb-8a3f-a2beeea3eca3",
   "metadata": {},
   "source": [
    "P-Value > 0.05 => Hence we can accept the null hypothesis and say that absence days of females are same as males and reject the alternative hypothesis."
   ]
  },
  {
   "cell_type": "markdown",
   "id": "2fe658d4-1504-46e6-aeff-8d916eb6477c",
   "metadata": {},
   "source": [
    "### Q9\n",
    "\n",
    "Ho -> There is no association between gender and career_aspiration\n",
    "\n",
    "Ha -> There is an association between gender and career_aspiration"
   ]
  },
  {
   "cell_type": "code",
   "execution_count": 204,
   "id": "f32d7de1-460c-429e-b659-1c897b58afff",
   "metadata": {},
   "outputs": [
    {
     "data": {
      "text/plain": [
       "Chi2ContingencyResult(statistic=155.39466648000175, pvalue=1.9087221746002932e-17, dof=34, expected_freq=array([[  63.126,   33.567,   84.669,  154.809,   34.068,   28.056,\n",
       "          59.619,   31.563,   30.561,   69.138,   41.583,   19.539,\n",
       "         157.815,   36.573,   29.559,  111.723,   16.032, 1002.   ],\n",
       "       [  62.874,   33.433,   84.331,  154.191,   33.932,   27.944,\n",
       "          59.381,   31.437,   30.439,   68.862,   41.417,   19.461,\n",
       "         157.185,   36.427,   29.441,  111.277,   15.968,  998.   ],\n",
       "       [ 126.   ,   67.   ,  169.   ,  309.   ,   68.   ,   56.   ,\n",
       "         119.   ,   63.   ,   61.   ,  138.   ,   83.   ,   39.   ,\n",
       "         315.   ,   73.   ,   59.   ,  223.   ,   32.   , 2000.   ]]))"
      ]
     },
     "execution_count": 204,
     "metadata": {},
     "output_type": "execute_result"
    }
   ],
   "source": [
    "chisqt = pd.crosstab(df['gender'],df['career_aspiration'], margins=True)\n",
    "stats.chi2_contingency(chisqt)"
   ]
  },
  {
   "cell_type": "markdown",
   "id": "e7c59b85-1cfb-4487-aa9b-9437fedd5085",
   "metadata": {},
   "source": [
    "P-Value < 0.05 => Hence we reject the null hypothesis and accept the alternative hypothesis. So we conclude that there is an association between gender and career aspiration. "
   ]
  },
  {
   "cell_type": "markdown",
   "id": "5aed270f-8f87-4da3-bf81-12ed72db8463",
   "metadata": {},
   "source": [
    "### Q10\n",
    "\n",
    "Ho -> There is no association between gender and part time job\n",
    "\n",
    "Ha -> There is an association between gender and part time job"
   ]
  },
  {
   "cell_type": "code",
   "execution_count": 208,
   "id": "7322a1fc-925b-47f2-a455-7b1babba319d",
   "metadata": {},
   "outputs": [
    {
     "data": {
      "text/plain": [
       "Chi2ContingencyResult(statistic=1.1337105392319442, pvalue=0.8888874344046543, dof=4, expected_freq=array([[ 843.684,  158.316, 1002.   ],\n",
       "       [ 840.316,  157.684,  998.   ],\n",
       "       [1684.   ,  316.   , 2000.   ]]))"
      ]
     },
     "execution_count": 208,
     "metadata": {},
     "output_type": "execute_result"
    }
   ],
   "source": [
    "chisqt = pd.crosstab(df['gender'],df['part_time_job'], margins=True)\n",
    "stats.chi2_contingency(chisqt)"
   ]
  },
  {
   "cell_type": "markdown",
   "id": "99dee6d5-9d6e-4272-ac51-41d0b9bdcc9a",
   "metadata": {},
   "source": [
    "P-Value > 0.05 => Hence we accept the null hypothesis and conclude that there is no association between gender and part time job."
   ]
  }
 ],
 "metadata": {
  "kernelspec": {
   "display_name": "Python 3 (ipykernel)",
   "language": "python",
   "name": "python3"
  },
  "language_info": {
   "codemirror_mode": {
    "name": "ipython",
    "version": 3
   },
   "file_extension": ".py",
   "mimetype": "text/x-python",
   "name": "python",
   "nbconvert_exporter": "python",
   "pygments_lexer": "ipython3",
   "version": "3.12.4"
  }
 },
 "nbformat": 4,
 "nbformat_minor": 5
}
